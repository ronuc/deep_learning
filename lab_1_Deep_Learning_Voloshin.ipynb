{
  "metadata": {
    "kernelspec": {
      "name": "python",
      "display_name": "Pyolite",
      "language": "python"
    },
    "language_info": {
      "codemirror_mode": {
        "name": "python",
        "version": 3
      },
      "file_extension": ".py",
      "mimetype": "text/x-python",
      "name": "python",
      "nbconvert_exporter": "python",
      "pygments_lexer": "ipython3",
      "version": "3.8"
    }
  },
  "nbformat_minor": 5,
  "nbformat": 4,
  "cells": [
    {
      "cell_type": "markdown",
      "source": "## Лабораторна робота №1 з глибинного навчання студента групи Ім-17 Волошина Дениса",
      "metadata": {},
      "id": "258b44a1"
    },
    {
      "cell_type": "code",
      "source": "import numpy as np\nfrom numpy.linalg import norm",
      "metadata": {},
      "execution_count": 1,
      "outputs": [],
      "id": "b5ef40c7"
    },
    {
      "cell_type": "code",
      "source": "def distance_print(distance_mat, eq_num):\n    \n    val = distance_mat[~np.eye(distance_mat.shape[0],dtype=bool)].min()\n    bool_arr = distance_mat == val\n    idx = []\n    for i in range(bool_arr.shape[0]):\n        for j in range(bool_arr.shape[1]):\n            if i == j:\n                continue\n            else:\n                if bool_arr[i][j] == True:\n                    idx.append([i, j])\n    print(f\"Для формули {eq_num} відстані: \\n\")\n    print(distance_mat) \n    print('\\n' + \"Найменшим елементом є \" + str(val) + '\\n')\n    print('Йому відповідають шаблони: ', end=' ')\n    for val in idx:\n        print(str(val[0]+1) + \" та \" + str(val[1]+1), end='; ')\n    print('\\n')",
      "metadata": {},
      "execution_count": 2,
      "outputs": [],
      "id": "9f7c17cc"
    },
    {
      "cell_type": "markdown",
      "source": "# 2.1 Індивідуальні завдання першого блоку",
      "metadata": {},
      "id": "45b4dd01"
    },
    {
      "cell_type": "markdown",
      "source": "## 3.1",
      "metadata": {},
      "id": "e1408659"
    },
    {
      "cell_type": "code",
      "source": "def L_2(s, x):\n    return np.sqrt(np.sum((s-x)**2))\n\ndef L_3(s, x, lambd):\n    return (np.sum((s-x)**(lambd)))**(1/lambd)\n\ndef L_4(s, x):\n    return np.sum(np.abs(s-x))\n\ndef L_5(s, x, eta):\n    return np.sqrt(eta @ ((s-x)**2).T)\n\ndef L_6(s, x, lambd, eta):\n    return (eta @ ((s-x)**lambd).T)**(1/lambd)\n\ndef L_7(s, x, eta):\n    return eta @ (np.abs(s-x)).T\n\ndef L_8(s, x):\n    return np.sum(np.abs(s-x)/np.abs(s+x))\n\ndef L_9(s, x):\n    n = x.shape[0]\n    summa = 0\n    for q in range(0, n-1):\n        for k in range(1, n):\n            if k>q:\n                summa += np.sign(s[q]-s[k]) * np.sign(x[q]-x[k])\n    return 1 - (2/(n*(n-1))) * summa\n\ndef L_10(s, x):\n    return np.max(np.abs(s-x))",
      "metadata": {},
      "execution_count": 3,
      "outputs": [],
      "id": "17691be9"
    },
    {
      "cell_type": "markdown",
      "source": "## 3.2",
      "metadata": {},
      "id": "f12c3ad8"
    },
    {
      "cell_type": "markdown",
      "source": "### Зчитати з файлу",
      "metadata": {},
      "id": "d1a36505"
    },
    {
      "cell_type": "code",
      "source": "name_of_matrix = \"first_block_X.txt\"\nname_of_weights = \"first_block_weights.txt\"\n\nX = np.loadtxt(name_of_matrix, delimiter=',')\neta_of_weights = np.loadtxt(name_of_weights, delimiter=',')\nn = X.shape[0]\nm = X.shape[1]",
      "metadata": {},
      "execution_count": 13,
      "outputs": [],
      "id": "8a35ee31"
    },
    {
      "cell_type": "markdown",
      "source": "### Згенерувати випадковим чином",
      "metadata": {},
      "id": "17670857"
    },
    {
      "cell_type": "code",
      "source": "n = 5\nm = 6\nX = np.random.sample((n,m))\neta = np.random.sample(m)",
      "metadata": {},
      "execution_count": 4,
      "outputs": [],
      "id": "86486162"
    },
    {
      "cell_type": "markdown",
      "source": "### Ініціалізуємо матриці відстаней та виводимо зчитані дані",
      "metadata": {},
      "id": "24276b13"
    },
    {
      "cell_type": "code",
      "source": "lamd = 4\nL_2_distances = np.zeros((n,n))\nL_3_distances = np.zeros((n,n))\nL_4_distances = np.zeros((n,n))\nL_5_distances = np.zeros((n,n))\nL_6_distances = np.zeros((n,n))\nL_7_distances = np.zeros((n,n))\nL_8_distances = np.zeros((n,n))\nL_9_distances = np.zeros((n,n))\nL_10_distances = np.zeros((n,n))\n\nprint(\"Матриця шаблонів :\")\nprint(\"\\n\")\nprint(X)\nprint(\"\\n\")\nprint(\"Матриця вагових коефіцієнтів: \")\nprint(\"\\n\")\nprint(eta)",
      "metadata": {},
      "execution_count": 14,
      "outputs": [
        {
          "name": "stdout",
          "output_type": "stream",
          "text": "Матриця шаблонів :\n\n\n\n\n\n[[0.82141972 0.04642155 0.64588296 0.59955833 0.54348868 0.41846437]\n\n [0.88574574 0.31988043 0.6388927  0.17943034 0.88372288 0.01598445]\n\n [0.3462443  0.7624472  0.31300019 0.96322643 0.79033617 0.12397609]\n\n [0.7063229  0.5163329  0.65039904 0.33653938 0.98784613 0.326713  ]\n\n [0.95537726 0.73712664 0.22150833 0.0243943  0.05667627 0.6166563 ]]\n\n\n\n\n\nМатриця вагових коефіцієнтів: \n\n\n\n\n\n[0.97881025 0.33173321 0.91515194 0.92442063 0.45940727 0.92583844]\n"
        }
      ],
      "id": "d02e70ad"
    },
    {
      "cell_type": "code",
      "source": "for i in range(n):\n    for j in range(n):\n        L_2_distances[i][j] = L_2(X[i], X[j]) \n        L_3_distances[i][j] = L_3(X[i], X[j], lambd=lamd)\n        L_4_distances[i][j] = L_4(X[i], X[j])\n        L_5_distances[i][j] = L_5(X[i], X[j], eta=eta)\n        L_6_distances[i][j] = L_6(X[i], X[j], lambd=lamd, eta=eta)\n        L_7_distances[i][j] = L_7(X[i], X[j], eta=eta)\n        L_8_distances[i][j] = L_8(X[i], X[j])\n        L_9_distances[i][j] = L_9(X[i], X[j])\n        L_10_distances[i][j] = L_10(X[i], X[j])",
      "metadata": {},
      "execution_count": null,
      "outputs": [],
      "id": "3061574b"
    },
    {
      "cell_type": "code",
      "source": "distance_print(L_2_distances, 2)\ndistance_print(L_3_distances, 3)\ndistance_print(L_4_distances, 4)\ndistance_print(L_5_distances, 5)\ndistance_print(L_6_distances, 6)\ndistance_print(L_7_distances, 7)\ndistance_print(L_8_distances, 8)\ndistance_print(L_9_distances, 9)\ndistance_print(L_10_distances, 10)",
      "metadata": {
        "scrolled": true
      },
      "execution_count": null,
      "outputs": [],
      "id": "b1c58b49"
    },
    {
      "cell_type": "markdown",
      "source": "# 2.2 Індивідуальні завдання другого блоку",
      "metadata": {},
      "id": "c92f2c14"
    },
    {
      "cell_type": "markdown",
      "source": "## 3.1",
      "metadata": {},
      "id": "aeb5470e"
    },
    {
      "cell_type": "code",
      "source": "def _a(patt_i, patt_j):\n    return patt_j @ patt_i.T\n\ndef _b(patt_i, patt_j):\n    return (1-patt_j) @ (1-patt_i).T\n\ndef _g(patt_i, patt_j):\n    return patt_i @ (1-patt_j).T\n\ndef _h(patt_i, patt_j):\n    return (1-patt_i) @ patt_j.T\n\ndef S_1(X_i, X_j):\n    a = _a(X_i, X_j)\n    b = _b(X_i, X_j)\n    g = _g(X_i, X_j)\n    h = _h(X_i, X_j)\n    n = a + b + g + h\n\n    return a/n\n\ndef S_2(X_i, X_j):\n    a = _a(X_i, X_j)\n    b = _b(X_i, X_j)\n    g = _g(X_i, X_j)\n    h = _h(X_i, X_j)\n    \n    return a/(a+g+h)\n\ndef S_3(X_i, X_j):\n    a = _a(X_i, X_j)\n    g = _g(X_i, X_j)\n    h = _h(X_i, X_j)\n    \n    return a/(2*a+g+h)\n\ndef S_4(X_i, X_j):\n    a = _a(X_i, X_j)\n    g = _g(X_i, X_j)\n    h = _h(X_i, X_j)\n    \n    return a/(a+2*(g+h))\n\ndef S_5(X_i, X_j):\n    a = _a(X_i, X_j)\n    b = _b(X_i, X_j)\n    g = _g(X_i, X_j)\n    h = _h(X_i, X_j)\n    n = a + b + g + h\n    \n    return (a+b)/n\n\ndef S_6(X_i, X_j):\n    a = _a(X_i, X_j)\n    g = _g(X_i, X_j)\n    h = _h(X_i, X_j)\n    \n    return a/(g+h)\n\ndef S_7(X_i, X_j):\n    a = _a(X_i, X_j)\n    b = _b(X_i, X_j)\n    g = _g(X_i, X_j)\n    h = _h(X_i, X_j)\n    \n    return (a*b-g*h)/(a*b+g*h)\n\ndef mean_euclid(X_i, X_j): # завдання 3.3 індивідуального блоку. Протестуємо серендню Евклідову відстань  \n    a = _a(X_i, X_j)\n    b = _b(X_i, X_j)\n    g = _g(X_i, X_j)\n    h = _h(X_i, X_j)\n    n = a + b + g + h\n    \n    return np.sqrt((g+h)/n)\n\ndef hamming(X_i, X_j): # завдання 3.5 індивідуального блоку. Протестуємо відстань Хеммінга\n    g = _g(X_i, X_j)\n    h = _h(X_i, X_j)\n    \n    return g+h\n",
      "metadata": {},
      "execution_count": 21,
      "outputs": [],
      "id": "f6f7fdb4"
    },
    {
      "cell_type": "markdown",
      "source": "## 3.2",
      "metadata": {},
      "id": "22d2e38f"
    },
    {
      "cell_type": "markdown",
      "source": "### Зчитування з файлів",
      "metadata": {},
      "id": "3130c5a1"
    },
    {
      "cell_type": "code",
      "source": "name_of_matrix_2 = \"second_block_X_2.txt\"\n\nX_2 = np.loadtxt(name_of_matrix_2, delimiter=',', dtype=None)\n\nn = X_2.shape[0]\nm = X_2.shape[1]",
      "metadata": {},
      "execution_count": 36,
      "outputs": [],
      "id": "3fba9319"
    },
    {
      "cell_type": "markdown",
      "source": "### Генерація випадковим чином",
      "metadata": {},
      "id": "d562e11a"
    },
    {
      "cell_type": "code",
      "source": "n = 5\nm = 4\nX_2 = np.random.binomial(1, 0.5, size=(n,m))",
      "metadata": {},
      "execution_count": 33,
      "outputs": [],
      "id": "b37fdd4c"
    },
    {
      "cell_type": "markdown",
      "source": "### Ініціалізуємо матрицю відстаней та виводимо дані",
      "metadata": {},
      "id": "c1d0a231"
    },
    {
      "cell_type": "code",
      "source": "S_1_distances = np.zeros((n,n))\nS_2_distances = np.zeros((n,n))\nS_3_distances = np.zeros((n,n))\nS_4_distances = np.zeros((n,n))\nS_5_distances = np.zeros((n,n))\nS_6_distances = np.zeros((n,n))\nS_7_distances = np.zeros((n,n))\nmean_euclid_distances = np.zeros((n,n)) # завдання 3.3\nhamming_distances = np.zeros((n,n)) # завдання 3.5\n\nprint(\"Матриця шаблонів: \")\nprint(\"\\n\")\nprint(X_2)",
      "metadata": {},
      "execution_count": 37,
      "outputs": [
        {
          "name": "stdout",
          "output_type": "stream",
          "text": "Матриця шаблонів: \n\n\n\n\n\n[[1. 0. 1. 1.]\n\n [0. 1. 1. 1.]\n\n [0. 1. 0. 1.]\n\n [1. 0. 0. 1.]\n\n [0. 1. 0. 0.]]\n"
        }
      ],
      "id": "84526852"
    },
    {
      "cell_type": "code",
      "source": "for i in range(n):\n    for j in range(n):\n        S_1_distances[i][j] = S_1(X_2[i], X_2[j]) \n        S_2_distances[i][j] = S_2(X_2[i], X_2[j])\n        S_3_distances[i][j] = S_3(X_2[i], X_2[j])\n        S_4_distances[i][j] = S_4(X_2[i], X_2[j])\n        S_5_distances[i][j] = S_5(X_2[i], X_2[j])\n        S_6_distances[i][j] = S_6(X_2[i], X_2[j])\n        S_7_distances[i][j] = S_7(X_2[i], X_2[j])",
      "metadata": {},
      "execution_count": 38,
      "outputs": [
        {
          "name": "stderr",
          "output_type": "stream",
          "text": "C:\\Users\\Andrii\\AppData\\Local\\Temp\\ipykernel_5292\\787013973.py:58: RuntimeWarning: divide by zero encountered in double_scalars\n\n  return a/(g+h)\n"
        }
      ],
      "id": "f3f3cb3e"
    },
    {
      "cell_type": "code",
      "source": "distance_print(S_1_distances, 1)\ndistance_print(S_2_distances, 2)\ndistance_print(S_3_distances, 3)\ndistance_print(S_4_distances, 4)\ndistance_print(S_5_distances, 5)\ndistance_print(S_6_distances, 6)\ndistance_print(S_7_distances, 7)",
      "metadata": {
        "scrolled": true
      },
      "execution_count": 39,
      "outputs": [
        {
          "name": "stdout",
          "output_type": "stream",
          "text": "Для формули 1 відстані: \n\n\n\n[[0.75 0.5  0.25 0.5  0.  ]\n\n [0.5  0.75 0.5  0.25 0.25]\n\n [0.25 0.5  0.5  0.25 0.25]\n\n [0.5  0.25 0.25 0.5  0.  ]\n\n [0.   0.25 0.25 0.   0.25]]\n\n\n\nНайменшим елементом є 0.0\n\n\n\nЙому відповідають шаблони:  1 та 5; 4 та 5; 5 та 1; 5 та 4; \n\n\n\nДля формули 2 відстані: \n\n\n\n[[1.         0.5        0.25       0.66666667 0.        ]\n\n [0.5        1.         0.66666667 0.25       0.33333333]\n\n [0.25       0.66666667 1.         0.33333333 0.5       ]\n\n [0.66666667 0.25       0.33333333 1.         0.        ]\n\n [0.         0.33333333 0.5        0.         1.        ]]\n\n\n\nНайменшим елементом є 0.0\n\n\n\nЙому відповідають шаблони:  1 та 5; 4 та 5; 5 та 1; 5 та 4; \n\n\n\nДля формули 3 відстані: \n\n\n\n[[0.5        0.33333333 0.2        0.4        0.        ]\n\n [0.33333333 0.5        0.4        0.2        0.25      ]\n\n [0.2        0.4        0.5        0.25       0.33333333]\n\n [0.4        0.2        0.25       0.5        0.        ]\n\n [0.         0.25       0.33333333 0.         0.5       ]]\n\n\n\nНайменшим елементом є 0.0\n\n\n\nЙому відповідають шаблони:  1 та 5; 4 та 5; 5 та 1; 5 та 4; \n\n\n\nДля формули 4 відстані: \n\n\n\n[[1.         0.33333333 0.14285714 0.5        0.        ]\n\n [0.33333333 1.         0.5        0.14285714 0.2       ]\n\n [0.14285714 0.5        1.         0.2        0.33333333]\n\n [0.5        0.14285714 0.2        1.         0.        ]\n\n [0.         0.2        0.33333333 0.         1.        ]]\n\n\n\nНайменшим елементом є 0.0\n\n\n\nЙому відповідають шаблони:  1 та 5; 4 та 5; 5 та 1; 5 та 4; \n\n\n\nДля формули 5 відстані: \n\n\n\n[[1.   0.5  0.25 0.75 0.  ]\n\n [0.5  1.   0.75 0.25 0.5 ]\n\n [0.25 0.75 1.   0.5  0.75]\n\n [0.75 0.25 0.5  1.   0.25]\n\n [0.   0.5  0.75 0.25 1.  ]]\n\n\n\nНайменшим елементом є 0.0\n\n\n\nЙому відповідають шаблони:  1 та 5; 5 та 1; \n\n\n\nДля формули 6 відстані: \n\n\n\n[[       inf 1.         0.33333333 2.         0.        ]\n\n [1.                inf 2.         0.33333333 0.5       ]\n\n [0.33333333 2.                inf 0.5        1.        ]\n\n [2.         0.33333333 0.5               inf 0.        ]\n\n [0.         0.5        1.         0.                inf]]\n\n\n\nНайменшим елементом є 0.0\n\n\n\nЙому відповідають шаблони:  1 та 5; 4 та 5; 5 та 1; 5 та 4; \n\n\n\nДля формули 7 відстані: \n\n\n\n[[ 1. -1. -1.  1. -1.]\n\n [-1.  1.  1. -1.  1.]\n\n [-1.  1.  1.  0.  1.]\n\n [ 1. -1.  0.  1. -1.]\n\n [-1.  1.  1. -1.  1.]]\n\n\n\nНайменшим елементом є -1.0\n\n\n\nЙому відповідають шаблони:  1 та 2; 1 та 3; 1 та 5; 2 та 1; 2 та 4; 3 та 1; 4 та 2; 4 та 5; 5 та 1; 5 та 4; \n\n\n"
        }
      ],
      "id": "bdc958fe"
    }
  ]
}